{
 "cells": [
  {
   "cell_type": "code",
   "execution_count": 1,
   "metadata": {},
   "outputs": [],
   "source": [
    "#Importing libraries\n",
    "import cv2\n",
    "import socket\n",
    "import pickle\n",
    "import struct"
   ]
  },
  {
   "cell_type": "code",
   "execution_count": 2,
   "metadata": {},
   "outputs": [
    {
     "name": "stdout",
     "output_type": "stream",
     "text": [
      "Listening :  ('192.168.42.207', 1234)\n"
     ]
    }
   ],
   "source": [
    "#creating socket\n",
    "server_socket = socket.socket(socket.AF_INET, socket.SOCK_STREAM)\n",
    "port = 1234\n",
    "socket_addr = ('192.168.42.207',port)\n",
    "server_socket.bind(socket_addr)\n",
    "server_socket.listen(5)\n",
    "print('Listening : ',socket_addr)"
   ]
  },
  {
   "cell_type": "code",
   "execution_count": null,
   "metadata": {},
   "outputs": [
    {
     "name": "stdout",
     "output_type": "stream",
     "text": [
      "Got connection form :  ('192.168.42.207', 4802)\n"
     ]
    }
   ],
   "source": [
    "\n",
    "\n",
    "while True :\n",
    "    client_socket, addr = server_socket.accept()\n",
    "    print('Got connection form : ', addr)\n",
    "    if client_socket :\n",
    "        vid = cv2.VideoCapture(1)\n",
    "        \n",
    "        while(vid.isOpened()):\n",
    "            img, frame = vid.read()\n",
    "            a = pickle.dumps(frame)\n",
    "            message = struct.pack('Q',len(a)) + a\n",
    "            client_socket.sendall(message)\n",
    "            cv2.imshow('TRANSMITTING VIDEO', frame)\n",
    "            key = cv2.waitKey(1) & 0xFF\n",
    "            if key == ord('q'):\n",
    "                client_socket.close()"
   ]
  },
  {
   "cell_type": "code",
   "execution_count": null,
   "metadata": {},
   "outputs": [],
   "source": []
  },
  {
   "cell_type": "code",
   "execution_count": null,
   "metadata": {},
   "outputs": [],
   "source": []
  }
 ],
 "metadata": {
  "kernelspec": {
   "display_name": "Python 3",
   "language": "python",
   "name": "python3"
  },
  "language_info": {
   "codemirror_mode": {
    "name": "ipython",
    "version": 3
   },
   "file_extension": ".py",
   "mimetype": "text/x-python",
   "name": "python",
   "nbconvert_exporter": "python",
   "pygments_lexer": "ipython3",
   "version": "3.7.4"
  }
 },
 "nbformat": 4,
 "nbformat_minor": 2
}
