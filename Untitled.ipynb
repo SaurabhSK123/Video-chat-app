{
 "cells": [
  {
   "cell_type": "code",
   "execution_count": 1,
   "metadata": {},
   "outputs": [],
   "source": [
    "import socket\n",
    "import cv2\n",
    "import numpy"
   ]
  },
  {
   "cell_type": "code",
   "execution_count": null,
   "metadata": {},
   "outputs": [
    {
     "name": "stdout",
     "output_type": "stream",
     "text": [
      "\t\tEnter the Client's system details...\n",
      "\n"
     ]
    }
   ],
   "source": [
    "print(\"\\t\\tEnter the Client's system details...\\n\")\n",
    "# Receiver IP and port no.\n",
    "rec_ip=input('\\tIP of Receiever : ')\n",
    "rec_port=int(input('\\n\\tPort no. of Receiver : '))\n",
    "\n",
    "print(\"\\t\\tEnter your system details....\")\n",
    "# Sender IP and Port no.\n",
    "s_ip = input('\\n\\tEnter your IP : ')\n",
    "s_port =int(input('\\n\\tEnter port no. of your program : '))\n"
   ]
  },
  {
   "cell_type": "code",
   "execution_count": null,
   "metadata": {},
   "outputs": [],
   "source": [
    "#Socket\n",
    "s = socket.socket(socket.AF_INET , socket.SOCK_DGRAM)\n",
    "\n",
    "#Binding IP and port\n",
    "s.bind( ( s_ip , s_port ) )\n",
    "\n",
    "s.listen(5)\n",
    "c,addr=s.accept()\n",
    "cap=cv2.VideoCapture(1)\n",
    "while True:\n",
    "    data=c.recv(100000000) \n",
    "    darray=numpy.frombuffer(data,numpy.uint8)\n",
    "    photo=cv2.imdecode(darray,cv2.IMREAD_COLOR)\n",
    "    if type(photo)is type(None):\n",
    "        pass\n",
    "    else:\n",
    "        cv2.imshow(\"PersonA on video Call\", photo) \n",
    "        if cv2.waitKey(10)==13:\n",
    "            break \n",
    "    r,photo=cap.read() \n",
    "    p_data=cv2.imencode('.jpg',photo)[1].tobytes()\n",
    "    c.sendall(p_data)\n",
    "cv2.destroyAllWindows()\n",
    "cap.release()"
   ]
  }
 ],
 "metadata": {
  "kernelspec": {
   "display_name": "Python 3",
   "language": "python",
   "name": "python3"
  },
  "language_info": {
   "codemirror_mode": {
    "name": "ipython",
    "version": 3
   },
   "file_extension": ".py",
   "mimetype": "text/x-python",
   "name": "python",
   "nbconvert_exporter": "python",
   "pygments_lexer": "ipython3",
   "version": "3.7.4"
  }
 },
 "nbformat": 4,
 "nbformat_minor": 2
}
